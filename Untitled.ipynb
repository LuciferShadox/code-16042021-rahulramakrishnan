{
 "cells": [
  {
   "cell_type": "code",
   "execution_count": null,
   "metadata": {},
   "outputs": [],
   "source": [
    "import findspark\n",
    "findspark.init('E:\\Spark\\spark-2.4.3-bin-hadoop2.7', edit_profile=True)\n",
    "#pip install pyspark or follow the steps in https://www.datacamp.com/community/tutorials/installation-of-pyspark\n",
    "import pyspark\n",
    "#need to install pyspark"
   ]
  },
  {
   "cell_type": "code",
   "execution_count": 4,
   "metadata": {},
   "outputs": [],
   "source": [
    "data=[{\"Gender\": \"Male\", \"HeightCm\": 171, \"WeightKg\": 96 }, { \"Gender\": \"Male\", \"HeightCm\": 161, \"WeightKg\":\n",
    "85 }, { \"Gender\": \"Male\", \"HeightCm\": 180, \"WeightKg\": 77 }, { \"Gender\": \"Female\", \"HeightCm\": 166,\n",
    "\"WeightKg\": 62}, {\"Gender\": \"Female\", \"HeightCm\": 150, \"WeightKg\": 70}, {\"Gender\": \"Female\",\n",
    "\"HeightCm\": 167, \"WeightKg\": 82}]"
   ]
  },
  {
   "cell_type": "code",
   "execution_count": 27,
   "metadata": {},
   "outputs": [],
   "source": [
    "#to find bmi category and risk\n",
    "def get_category_and_risk(bmi):\n",
    "    if (bmi <=18.5):\n",
    "        return \"Underweight\",\"Malnutrition risk\"\n",
    "    elif(bmi >18.5 and bmi<25):\n",
    "        return \"Normal weight\",\"Low risk\"\n",
    "    elif(bmi >=25 and bmi<30):\n",
    "        return \"Overweight\",\"Enhanced risk\"\n",
    "    elif(bmi>=30 and bmi<35):\n",
    "        return \"Moderately obese\",\"Medium risk\"\n",
    "    elif(bmi>=35 and bmi<40):\n",
    "        return \"Severely obese\",\"High risk\"\n",
    "    elif(bmi>=40):\n",
    "        return \"Very Severely obese\",\"Very High risk\"\n",
    "    else:\n",
    "        print(\"Print Technical Error\")\n",
    "        return None\n",
    "    \n",
    "\n",
    "#input height and weight in m and kg\n",
    "# output bmi in kg/m\n",
    "def calculate_out(x):\n",
    "    height = x.HeightCm\n",
    "    height = height/100\n",
    "    weight= x.WeightKg\n",
    "    bmi=weight/(height*height)\n",
    "    category,risk=get_category_and_risk(bmi)\n",
    "    return (x.Gender,x.HeightCm,x.WeightKg,bmi,category,risk)\n",
    "\n"
   ]
  },
  {
   "cell_type": "code",
   "execution_count": 2,
   "metadata": {},
   "outputs": [],
   "source": [
    "\n",
    "sc=pyspark.SparkContext('local[*]','model_update')\n",
    "appName = \"Example\"\n",
    "master = \"local\"\n",
    "spark = pyspark.sql.SparkSession.builder.appName(appName).master(master).getOrCreate()"
   ]
  },
  {
   "cell_type": "code",
   "execution_count": 16,
   "metadata": {},
   "outputs": [
    {
     "name": "stderr",
     "output_type": "stream",
     "text": [
      "E:\\Spark\\spark-2.4.3-bin-hadoop2.7\\python\\pyspark\\sql\\session.py:346: UserWarning: inferring schema from dict is deprecated,please use pyspark.sql.Row instead\n",
      "  warnings.warn(\"inferring schema from dict is deprecated,\"\n"
     ]
    }
   ],
   "source": [
    "from pyspark.sql import SQLContext\n",
    "from pyspark.sql.types import StructType,StructField,StringType,IntegerType\n",
    "\n",
    "sqlContext = SQLContext(sc)\n",
    "\n",
    "dataframe = sqlContext.createDataFrame(data)"
   ]
  },
  {
   "cell_type": "code",
   "execution_count": 32,
   "metadata": {},
   "outputs": [
    {
     "name": "stdout",
     "output_type": "stream",
     "text": [
      "+------+--------+--------+\n",
      "|Gender|HeightCm|WeightKg|\n",
      "+------+--------+--------+\n",
      "|  Male|     171|      96|\n",
      "|  Male|     161|      85|\n",
      "|  Male|     180|      77|\n",
      "|Female|     166|      62|\n",
      "|Female|     150|      70|\n",
      "|Female|     167|      82|\n",
      "+------+--------+--------+\n",
      "\n"
     ]
    }
   ],
   "source": [
    "dataframe=dataframe.dropna()\n",
    "dataframe.show()"
   ]
  },
  {
   "cell_type": "code",
   "execution_count": 29,
   "metadata": {},
   "outputs": [
    {
     "name": "stdout",
     "output_type": "stream",
     "text": [
      "+------+--------+--------+------------------+----------------+-------------+\n",
      "|Gender|HeightCm|WeightKg|               BMI|        Category|         Risk|\n",
      "+------+--------+--------+------------------+----------------+-------------+\n",
      "|  Male|     171|      96| 32.83061454806607|Moderately obese|  Medium risk|\n",
      "|  Male|     161|      85| 32.79194475521777|Moderately obese|  Medium risk|\n",
      "|  Male|     180|      77| 23.76543209876543|   Normal weight|     Low risk|\n",
      "|Female|     166|      62| 22.49963710262738|   Normal weight|     Low risk|\n",
      "|Female|     150|      70| 31.11111111111111|Moderately obese|  Medium risk|\n",
      "|Female|     167|      82|29.402273297715947|      Overweight|Enhanced risk|\n",
      "+------+--------+--------+------------------+----------------+-------------+\n",
      "\n"
     ]
    }
   ],
   "source": [
    "#Problem 1: Calculate the BMI (Body Mass Index) using Formula 1, BMI Category and Health risk\n",
    "out_rdd=dataframe.rdd.map(lambda x:calculate_out(x))\n",
    "df2=out_rdd.toDF([\"Gender\",\"HeightCm\",\"WeightKg\",\"BMI\",\"Category\",\"Risk\"]   )\n",
    "df2.show()"
   ]
  },
  {
   "cell_type": "code",
   "execution_count": 30,
   "metadata": {},
   "outputs": [
    {
     "name": "stdout",
     "output_type": "stream",
     "text": [
      "1\n"
     ]
    }
   ],
   "source": [
    "#Problem 2 Count the total number of overweight people\n",
    "overweight_count = df2.where(df2.Category==\"Overweight\").count()\n",
    "print(overweight_count)"
   ]
  },
  {
   "cell_type": "code",
   "execution_count": null,
   "metadata": {},
   "outputs": [],
   "source": [
    "#Problem 3:\n",
    "# there might be a problem with the json files with null values in some column so we the code is improved to a condtition that \n",
    "#it might take null values also\n"
   ]
  }
 ],
 "metadata": {
  "kernelspec": {
   "display_name": "Python 3",
   "language": "python",
   "name": "python3"
  },
  "language_info": {
   "codemirror_mode": {
    "name": "ipython",
    "version": 3
   },
   "file_extension": ".py",
   "mimetype": "text/x-python",
   "name": "python",
   "nbconvert_exporter": "python",
   "pygments_lexer": "ipython3",
   "version": "3.6.13"
  }
 },
 "nbformat": 4,
 "nbformat_minor": 4
}
